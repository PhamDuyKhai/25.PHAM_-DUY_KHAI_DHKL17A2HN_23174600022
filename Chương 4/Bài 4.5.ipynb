{
 "cells": [
  {
   "cell_type": "code",
   "execution_count": 3,
   "metadata": {},
   "outputs": [],
   "source": [
    "import pandas as pd\n",
    "import numpy as np"
   ]
  },
  {
   "cell_type": "code",
   "execution_count": 4,
   "metadata": {},
   "outputs": [
    {
     "data": {
      "text/plain": [
       "0     24.925300\n",
       "1     16.238156\n",
       "2     13.682250\n",
       "3      5.212142\n",
       "4     11.168221\n",
       "5     13.165297\n",
       "6     16.675533\n",
       "7     15.765212\n",
       "8      5.819264\n",
       "9      3.288408\n",
       "10    15.740627\n",
       "11    13.764493\n",
       "12    12.535199\n",
       "13     9.537838\n",
       "14     7.680803\n",
       "15     4.524401\n",
       "16    14.107430\n",
       "17     6.802629\n",
       "18     5.658265\n",
       "19     8.062221\n",
       "20     9.880235\n",
       "21     5.607975\n",
       "22     7.914654\n",
       "23    14.725383\n",
       "24    13.395997\n",
       "dtype: float64"
      ]
     },
     "execution_count": 4,
     "metadata": {},
     "output_type": "execute_result"
    }
   ],
   "source": [
    "ser = pd.Series(np.random.normal(10, 5, 25))\n",
    "ser"
   ]
  },
  {
   "cell_type": "markdown",
   "metadata": {},
   "source": [
    "1. Giá trị tối thiểu (mininum) của ser"
   ]
  },
  {
   "cell_type": "code",
   "execution_count": 5,
   "metadata": {},
   "outputs": [
    {
     "name": "stdout",
     "output_type": "stream",
     "text": [
      "Giá trị tối thiểu của ser: 3.2884082367464753\n"
     ]
    }
   ],
   "source": [
    "min_value = ser.min()\n",
    "\n",
    "print(\"Giá trị tối thiểu của ser:\", min_value)\n"
   ]
  },
  {
   "cell_type": "markdown",
   "metadata": {},
   "source": [
    "2. Phần centile thứ 25 (25th percentile) của ser. Đây là giá trị mà 25% các giá trị trong chuỗi nhỏ hoặc bằng nó"
   ]
  },
  {
   "cell_type": "code",
   "execution_count": 6,
   "metadata": {},
   "outputs": [
    {
     "name": "stdout",
     "output_type": "stream",
     "text": [
      "Phần centile thứ 25 của ser: 6.802629381685979\n"
     ]
    }
   ],
   "source": [
    "sorted_ser = ser.sort_values()\n",
    "index_25th_percentile = int(len(sorted_ser) * 0.25)\n",
    "percentile_25 = sorted_ser.iloc[index_25th_percentile]\n",
    "\n",
    "print(\"Phần centile thứ 25 của ser:\", percentile_25)"
   ]
  },
  {
   "cell_type": "markdown",
   "metadata": {},
   "source": [
    "3. Trung vị (median) của ser. Đây là giá trị ở vị trí giữa khi sắp xếp ser theo thứ tự tăng dần"
   ]
  },
  {
   "cell_type": "code",
   "execution_count": 7,
   "metadata": {},
   "outputs": [
    {
     "name": "stdout",
     "output_type": "stream",
     "text": [
      "Trung vị của ser: 11.168221203842814\n"
     ]
    }
   ],
   "source": [
    "median_value = ser.median()\n",
    "\n",
    "print(\"Trung vị của ser:\", median_value)"
   ]
  },
  {
   "cell_type": "markdown",
   "metadata": {},
   "source": [
    "4. Phần centile thứ 75 (75th percentile) của ser. Đây là giá trị mà 75% các giá trị trong ser nhỏ hoặc bằng nó"
   ]
  },
  {
   "cell_type": "code",
   "execution_count": 8,
   "metadata": {},
   "outputs": [
    {
     "name": "stdout",
     "output_type": "stream",
     "text": [
      "Phần centile thứ 75 của ser: 14.10743002011916\n"
     ]
    }
   ],
   "source": [
    "percentile_75 = ser.quantile(0.75)\n",
    "\n",
    "print(\"Phần centile thứ 75 của ser:\", percentile_75)"
   ]
  },
  {
   "cell_type": "markdown",
   "metadata": {},
   "source": [
    "5. Giá trị tối đa (maxinum) của ser"
   ]
  },
  {
   "cell_type": "code",
   "execution_count": 9,
   "metadata": {},
   "outputs": [
    {
     "name": "stdout",
     "output_type": "stream",
     "text": [
      "Giá trị tối đa của ser: 24.925299732906794\n"
     ]
    }
   ],
   "source": [
    "max_value = ser.max()\n",
    "\n",
    "print(\"Giá trị tối đa của ser:\", max_value)"
   ]
  }
 ],
 "metadata": {
  "kernelspec": {
   "display_name": "base",
   "language": "python",
   "name": "python3"
  },
  "language_info": {
   "codemirror_mode": {
    "name": "ipython",
    "version": 3
   },
   "file_extension": ".py",
   "mimetype": "text/x-python",
   "name": "python",
   "nbconvert_exporter": "python",
   "pygments_lexer": "ipython3",
   "version": "3.12.4"
  }
 },
 "nbformat": 4,
 "nbformat_minor": 2
}
