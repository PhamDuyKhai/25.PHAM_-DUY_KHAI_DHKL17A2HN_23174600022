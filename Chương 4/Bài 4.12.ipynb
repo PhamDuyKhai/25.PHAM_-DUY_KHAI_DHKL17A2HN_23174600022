{
 "cells": [
  {
   "cell_type": "code",
   "execution_count": 4,
   "metadata": {},
   "outputs": [],
   "source": [
    "import pandas as pd\n",
    "\n",
    "ser1 = pd.Series(range(5))\n",
    "ser2 = pd.Series(list('abede'))"
   ]
  },
  {
   "cell_type": "code",
   "execution_count": 5,
   "metadata": {},
   "outputs": [
    {
     "name": "stdout",
     "output_type": "stream",
     "text": [
      "Kết quả theo chiều dọc:\n",
      "0    0\n",
      "1    1\n",
      "2    2\n",
      "3    3\n",
      "4    4\n",
      "5    a\n",
      "6    b\n",
      "7    e\n",
      "8    d\n",
      "9    e\n",
      "dtype: object\n"
     ]
    }
   ],
   "source": [
    "ket_qua_doc = pd.concat([ser1, ser2], axis=0).reset_index(drop=True)\n",
    "print(\"Kết quả theo chiều dọc:\")\n",
    "print(ket_qua_doc)"
   ]
  },
  {
   "cell_type": "code",
   "execution_count": 6,
   "metadata": {},
   "outputs": [
    {
     "name": "stdout",
     "output_type": "stream",
     "text": [
      "Kết quả theo chiều ngang:\n",
      "   ser1 ser2\n",
      "0     0    a\n",
      "1     1    b\n",
      "2     2    e\n",
      "3     3    d\n",
      "4     4    e\n"
     ]
    }
   ],
   "source": [
    "ket_qua_ngang = pd.concat([ser1, ser2], axis=1)\n",
    "ket_qua_ngang.columns = ['ser1', 'ser2']\n",
    "print(\"Kết quả theo chiều ngang:\")\n",
    "print(ket_qua_ngang)"
   ]
  }
 ],
 "metadata": {
  "kernelspec": {
   "display_name": "base",
   "language": "python",
   "name": "python3"
  },
  "language_info": {
   "codemirror_mode": {
    "name": "ipython",
    "version": 3
   },
   "file_extension": ".py",
   "mimetype": "text/x-python",
   "name": "python",
   "nbconvert_exporter": "python",
   "pygments_lexer": "ipython3",
   "version": "3.12.4"
  }
 },
 "nbformat": 4,
 "nbformat_minor": 2
}
