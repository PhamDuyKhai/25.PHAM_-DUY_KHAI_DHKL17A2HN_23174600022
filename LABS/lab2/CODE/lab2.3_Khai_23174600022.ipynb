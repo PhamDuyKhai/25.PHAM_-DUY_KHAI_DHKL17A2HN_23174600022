{
 "cells": [
  {
   "cell_type": "code",
   "execution_count": 5,
   "metadata": {},
   "outputs": [],
   "source": [
    "import numpy as np"
   ]
  },
  {
   "cell_type": "code",
   "execution_count": 6,
   "metadata": {},
   "outputs": [],
   "source": [
    "# Đọc dữ liệu từ tệp `efficiency.txt` và `shifts.txt`\n",
    "path_1 = r\"C:\\Users\\Admin\\OneDrive\\Máy tính\\PT NC 2\\LABS\\lab2\\DATA\\efficiency.txt\"\n",
    "path_2 = r\"C:\\Users\\Admin\\OneDrive\\Máy tính\\PT NC 2\\LABS\\lab2\\DATA\\shifts.txt\"\n",
    "\n",
    "# 1. Đọc dữ liệu hiệu suất\n",
    "efficiency = []\n",
    "with open(path_1, 'r') as file:\n",
    "    for line in file:\n",
    "        efficiency.append(float(line.strip()))"
   ]
  },
  {
   "cell_type": "code",
   "execution_count": 7,
   "metadata": {},
   "outputs": [
    {
     "name": "stdout",
     "output_type": "stream",
     "text": [
      "Efficiency: [94.0, 97.0, 114.0, 117.0, 117.0]\n",
      "Shifts: ['Afternoon', 'Afternoon', 'Afternoon', 'Morning', 'Afternoon']\n"
     ]
    }
   ],
   "source": [
    "# 2. Đọc dữ liệu ca làm việc\n",
    "shifts = []\n",
    "with open(path_2, 'r') as file:\n",
    "    for line in file:\n",
    "        shifts.append(line.strip())\n",
    "\n",
    "# Kiểm tra dữ liệu đã đọc\n",
    "print(\"Efficiency:\", efficiency[:5])  # Hiển thị 5 phần tử đầu tiên\n",
    "print(\"Shifts:\", shifts[:5])  # Hiển thị 5 phần tử đầu tiên\n"
   ]
  },
  {
   "cell_type": "code",
   "execution_count": 8,
   "metadata": {},
   "outputs": [
    {
     "name": "stdout",
     "output_type": "stream",
     "text": [
      "np_efficiency dtype: float64\n",
      "np_shifts dtype: <U9\n"
     ]
    }
   ],
   "source": [
    "# 3. Tạo numpy array từ list\n",
    "np_efficiency = np.array(efficiency)\n",
    "np_shifts = np.array(shifts)\n",
    "\n",
    "# Kiểm tra kiểu dữ liệu\n",
    "print(\"np_efficiency dtype:\", np_efficiency.dtype)\n",
    "print(\"np_shifts dtype:\", np_shifts.dtype)"
   ]
  },
  {
   "cell_type": "code",
   "execution_count": 9,
   "metadata": {},
   "outputs": [
    {
     "name": "stdout",
     "output_type": "stream",
     "text": [
      "Hiệu suất trung bình ca Morning: 96.8529411764706\n"
     ]
    }
   ],
   "source": [
    "# 4. Tính toán hiệu suất trung bình của nhân viên làm việc ca 'Morning'\n",
    "morning_mask = np_shifts == 'Morning'\n",
    "hieu_suat_morning = np_efficiency[morning_mask]\n",
    "hieu_suat_TB_morning = np.mean(hieu_suat_morning)\n",
    "print(\"Hiệu suất trung bình ca Morning:\", hieu_suat_TB_morning)"
   ]
  },
  {
   "cell_type": "code",
   "execution_count": 10,
   "metadata": {},
   "outputs": [
    {
     "name": "stdout",
     "output_type": "stream",
     "text": [
      "Hiệu suất trung bình ca không phải Morning: 98.93939393939394\n"
     ]
    }
   ],
   "source": [
    "# 5. Tính hiệu suất trung bình của các ca không phải 'Morning'\n",
    "non_morning_mask = np_shifts != 'Morning'\n",
    "hieu_suat_non_morning = np_efficiency[non_morning_mask]\n",
    "hieu_suat_TB_non_morning = np.mean(hieu_suat_non_morning)\n",
    "print(\"Hiệu suất trung bình ca không phải Morning:\", hieu_suat_TB_non_morning)"
   ]
  },
  {
   "cell_type": "code",
   "execution_count": 11,
   "metadata": {},
   "outputs": [],
   "source": [
    "# 6. Tạo mảng cấu trúc `workers` gồm `shift` và `efficiency`\n",
    "dtype = [('shift', 'U10'), ('efficiency', 'float')]\n",
    "workers = np.array(list(zip(np_shifts, np_efficiency)), dtype=dtype)\n"
   ]
  },
  {
   "cell_type": "code",
   "execution_count": 14,
   "metadata": {},
   "outputs": [
    {
     "name": "stdout",
     "output_type": "stream",
     "text": [
      "Ca làm việc có hiệu suất thấp nhất: ('Afternoon', 50.)\n",
      "Ca làm việc có hiệu suất cao nhất: ('Night', 149.)\n"
     ]
    }
   ],
   "source": [
    "# 7. Sắp xếp mảng workers theo hiệu suất (efficiency)\n",
    "nhan_vien_sap_xep = np.sort(workers, order='efficiency')\n",
    "\n",
    "# Hiển thị ca làm việc có hiệu suất thấp nhất và cao nhất\n",
    "ca_hieu_suat_thap_nhat = nhan_vien_sap_xep[0]\n",
    "ca_hieu_suat_cao_nhat = nhan_vien_sap_xep[-1]\n",
    "\n",
    "# Kết quả\n",
    "print(\"Ca làm việc có hiệu suất thấp nhất:\", ca_hieu_suat_thap_nhat)\n",
    "print(\"Ca làm việc có hiệu suất cao nhất:\", ca_hieu_suat_cao_nhat)\n"
   ]
  }
 ],
 "metadata": {
  "kernelspec": {
   "display_name": "base",
   "language": "python",
   "name": "python3"
  },
  "language_info": {
   "codemirror_mode": {
    "name": "ipython",
    "version": 3
   },
   "file_extension": ".py",
   "mimetype": "text/x-python",
   "name": "python",
   "nbconvert_exporter": "python",
   "pygments_lexer": "ipython3",
   "version": "3.12.4"
  }
 },
 "nbformat": 4,
 "nbformat_minor": 2
}
