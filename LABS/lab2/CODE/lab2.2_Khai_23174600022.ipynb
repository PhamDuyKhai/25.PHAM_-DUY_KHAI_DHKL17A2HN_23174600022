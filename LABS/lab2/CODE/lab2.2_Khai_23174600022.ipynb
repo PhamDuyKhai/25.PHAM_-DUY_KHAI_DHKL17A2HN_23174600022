{
 "cells": [
  {
   "cell_type": "code",
   "execution_count": 8,
   "metadata": {},
   "outputs": [],
   "source": [
    "import csv\n",
    "import numpy as np\n"
   ]
  },
  {
   "cell_type": "code",
   "execution_count": 9,
   "metadata": {},
   "outputs": [
    {
     "name": "stdout",
     "output_type": "stream",
     "text": [
      "[[3.04, 3.39, 6.7], [5.8, 6.41, 6.62], [2.59, 3.57, 9.16], [3.81, 8.78, 9.24], [8.91, 9.64, 6.39]]\n"
     ]
    }
   ],
   "source": [
    "# 1. Đọc file CSV và lưu dữ liệu vào một list\n",
    "file_path = r'C:\\Users\\Admin\\OneDrive\\Máy tính\\PT NC 2\\LABS\\lab2\\DATA\\diem_hoc_phan.csv'\n",
    "data = []\n",
    "\n",
    "with open(file_path, newline='', encoding='utf-8') as csvfile:\n",
    "    reader = csv.reader(csvfile)\n",
    "    next(reader)  # Bỏ qua hàng đầu tiên (tiêu đề cột)\n",
    "    \n",
    "    # Xử lý dữ liệu từ mỗi hàng\n",
    "    for row in reader:\n",
    "        # Chuyển đổi điểm số từ string sang float và thêm vào list\n",
    "        data.append([float(score) for score in row[2:]])\n",
    "\n",
    "# Hiển thị một phần của dữ liệu để kiểm tra\n",
    "print(data[:5])  # Hiển thị 5 dòng đầu tiên\n"
   ]
  },
  {
   "cell_type": "code",
   "execution_count": 10,
   "metadata": {},
   "outputs": [
    {
     "name": "stdout",
     "output_type": "stream",
     "text": [
      "[['F' 'F' 'C+']\n",
      " ['C' 'C' 'C+']\n",
      " ['F' 'F' 'A']\n",
      " ['F' 'A' 'A']\n",
      " ['A' 'A' 'C']]\n"
     ]
    }
   ],
   "source": [
    "# 2. Chuyển đổi điểm số sang hệ chữ\n",
    "def chuyen_diem(score):\n",
    "    \"\"\"Chuyển đổi điểm số sang điểm chữ theo tiêu chí đã cho.\"\"\"\n",
    "    if 8.5 <= score <= 10:\n",
    "        return 'A'\n",
    "    elif 8.0 <= score < 8.5:\n",
    "        return 'B+'\n",
    "    elif 7.0 <= score < 8.0:\n",
    "        return 'B'\n",
    "    elif 6.5 <= score < 7.0:\n",
    "        return 'C+'\n",
    "    elif 5.5 <= score < 6.5:\n",
    "        return 'C'\n",
    "    elif 5.0 <= score < 5.5:\n",
    "        return 'D+'\n",
    "    elif 4.0 <= score < 5.0:\n",
    "        return 'D'\n",
    "    else:\n",
    "        return 'F'\n",
    "\n",
    "# Áp dụng hàm quy đổi cho mỗi điểm\n",
    "diem_np_array = np.array(data)\n",
    "diem_converted = np.vectorize(chuyen_diem)(diem_np_array)\n",
    "\n",
    "# Hiển thị 5 dòng đầu tiên của mảng điểm chữ\n",
    "print(diem_converted[:5])"
   ]
  },
  {
   "cell_type": "code",
   "execution_count": 11,
   "metadata": {},
   "outputs": [
    {
     "name": "stdout",
     "output_type": "stream",
     "text": [
      "Học Phần 1:\n",
      "Tổng điểm: 154.93\n",
      "Điểm trung bình: 5.16\n",
      "Độ lệch chuẩn: 2.41\n",
      "\n",
      "Học Phần 2:\n",
      "Tổng điểm: 170.27\n",
      "Điểm trung bình: 5.68\n",
      "Độ lệch chuẩn: 2.25\n",
      "\n",
      "Học Phần 3:\n",
      "Tổng điểm: 188.78\n",
      "Điểm trung bình: 6.29\n",
      "Độ lệch chuẩn: 1.81\n",
      "\n"
     ]
    }
   ],
   "source": [
    "# 3. Phân tích dữ liệu điểm số\n",
    "# Chia tách dữ liệu để phân tích điểm số của mỗi học phần\n",
    "hp1_scores = diem_np_array[:, 0]  # Điểm học phần 1\n",
    "hp2_scores = diem_np_array[:, 1]  # Điểm học phần 2\n",
    "hp3_scores = diem_np_array[:, 2]  # Điểm học phần 3\n",
    "\n",
    "# Tính toán thống kê cơ bản\n",
    "hp1_stats = (np.sum(hp1_scores), np.mean(hp1_scores), np.std(hp1_scores))\n",
    "hp2_stats = (np.sum(hp2_scores), np.mean(hp2_scores), np.std(hp2_scores))\n",
    "hp3_stats = (np.sum(hp3_scores), np.mean(hp3_scores), np.std(hp3_scores))\n",
    "\n",
    "# Báo cáo kết quả ra màn hình\n",
    "print(\"Học Phần 1:\")\n",
    "print(f\"Tổng điểm: {hp1_stats[0]:.2f}\")\n",
    "print(f\"Điểm trung bình: {hp1_stats[1]:.2f}\")\n",
    "print(f\"Độ lệch chuẩn: {hp1_stats[2]:.2f}\\n\")\n",
    "\n",
    "print(\"Học Phần 2:\")\n",
    "print(f\"Tổng điểm: {hp2_stats[0]:.2f}\")\n",
    "print(f\"Điểm trung bình: {hp2_stats[1]:.2f}\")\n",
    "print(f\"Độ lệch chuẩn: {hp2_stats[2]:.2f}\\n\")\n",
    "\n",
    "print(\"Học Phần 3:\")\n",
    "print(f\"Tổng điểm: {hp3_stats[0]:.2f}\")\n",
    "print(f\"Điểm trung bình: {hp3_stats[1]:.2f}\")\n",
    "print(f\"Độ lệch chuẩn: {hp3_stats[2]:.2f}\\n\")"
   ]
  },
  {
   "cell_type": "code",
   "execution_count": 12,
   "metadata": {},
   "outputs": [
    {
     "name": "stdout",
     "output_type": "stream",
     "text": [
      "Tổng quan toàn bộ lớp học:\n",
      "Tổng điểm của toàn lớp (cho tất cả học phần): 513.98\n",
      "Điểm trung bình của toàn lớp (cho tất cả học phần): 5.71\n",
      "Độ lệch chuẩn của toàn lớp: 2.22\n"
     ]
    }
   ],
   "source": [
    "# 4. Phân tích tổng quan cho toàn bộ lớp học\n",
    "tong_diem_all = np.sum(diem_np_array)\n",
    "diem_tb_all = np.mean(diem_np_array)\n",
    "std_deviation_all = np.std(diem_np_array)\n",
    "\n",
    "print(\"Tổng quan toàn bộ lớp học:\")\n",
    "print(f\"Tổng điểm của toàn lớp (cho tất cả học phần): {tong_diem_all:.2f}\")\n",
    "print(f\"Điểm trung bình của toàn lớp (cho tất cả học phần): {diem_tb_all:.2f}\")\n",
    "print(f\"Độ lệch chuẩn của toàn lớp: {std_deviation_all:.2f}\")"
   ]
  },
  {
   "cell_type": "code",
   "execution_count": 13,
   "metadata": {},
   "outputs": [
    {
     "data": {
      "text/plain": [
       "{'A': 15, 'B': 4, 'B+': 7, 'C': 14, 'C+': 6, 'D': 10, 'D+': 6, 'F': 28}"
      ]
     },
     "execution_count": 13,
     "metadata": {},
     "output_type": "execute_result"
    }
   ],
   "source": [
    "# Áp dụng hàm quy đổi cho mỗi điểm\n",
    "diem_chu = np.vectorize(chuyen_diem)(diem_np_array)\n",
    "\n",
    "# 3. Tính toán số lượng sinh viên đạt từng loại điểm chữ\n",
    "diem_chu_phan_loai, so_luong = np.unique(diem_chu, return_counts=True)\n",
    "phan_bo_diem_chu = dict(zip(diem_chu_phan_loai, so_luong))\n",
    "\n",
    "phan_bo_diem_chu\n"
   ]
  }
 ],
 "metadata": {
  "kernelspec": {
   "display_name": "base",
   "language": "python",
   "name": "python3"
  },
  "language_info": {
   "codemirror_mode": {
    "name": "ipython",
    "version": 3
   },
   "file_extension": ".py",
   "mimetype": "text/x-python",
   "name": "python",
   "nbconvert_exporter": "python",
   "pygments_lexer": "ipython3",
   "version": "3.12.4"
  }
 },
 "nbformat": 4,
 "nbformat_minor": 2
}
