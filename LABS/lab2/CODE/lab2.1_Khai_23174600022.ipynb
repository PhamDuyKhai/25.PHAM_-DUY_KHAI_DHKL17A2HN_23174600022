{
 "cells": [
  {
   "cell_type": "code",
   "execution_count": 10,
   "metadata": {},
   "outputs": [],
   "source": [
    "import numpy as np"
   ]
  },
  {
   "cell_type": "code",
   "execution_count": 11,
   "metadata": {},
   "outputs": [
    {
     "name": "stdout",
     "output_type": "stream",
     "text": [
      "Dữ liệu nhiệt độ hàng ngày trong tháng: [22.49 34.01 29.64 26.97 18.12 18.12 16.16 32.32 27.02 29.16 15.41 34.4\n",
      " 31.65 19.25 18.64 18.67 21.08 25.5  23.64 20.82 27.24 17.79 20.84 22.33\n",
      " 24.12 30.7  18.99 25.28 26.85 15.93]\n"
     ]
    }
   ],
   "source": [
    "# 1. Tạo Dữ Liệu Mô Phỏng Nhiệt Độ: (10 phút)\n",
    "# Tạo một mảng Numpy mô phỏng dữ liệu nhiệt độ hàng ngày trong một tháng (30 ngày)\n",
    "np.random.seed(42)  # Để kết quả ngẫu nhiên có thể tái lặp\n",
    "\n",
    "dl_thoi_tiet = np.round(np.random.uniform(low=15, high=35, size=30), 2)\n",
    "print(\"Dữ liệu nhiệt độ hàng ngày trong tháng:\", dl_thoi_tiet)"
   ]
  },
  {
   "cell_type": "code",
   "execution_count": 12,
   "metadata": {},
   "outputs": [
    {
     "name": "stdout",
     "output_type": "stream",
     "text": [
      "Nhiệt độ trung bình trong tháng: 23.77 độ C\n"
     ]
    }
   ],
   "source": [
    "# Tính nhiệt độ trung bình trong tháng\n",
    "nhiet_do_tb = np.mean(dl_thoi_tiet)\n",
    "print(f\"Nhiệt độ trung bình trong tháng: {nhiet_do_tb:.2f} độ C\")"
   ]
  },
  {
   "cell_type": "code",
   "execution_count": 13,
   "metadata": {},
   "outputs": [
    {
     "name": "stdout",
     "output_type": "stream",
     "text": [
      "Nhiệt độ cao nhất: 34.4 độ C vào ngày thứ 12\n",
      "Nhiệt độ thấp nhất: 15.41 độ C vào ngày thứ 11\n"
     ]
    }
   ],
   "source": [
    "# 2. Phân Tích Xu Hướng Nhiệt Độ: (5-10 phút)\n",
    "# Ngày có nhiệt độ cao nhất, thấp nhất\n",
    "nhiet_do_cao = np.max(dl_thoi_tiet)\n",
    "nhiet_do_thap = np.min(dl_thoi_tiet)\n",
    "ngay_cao = np.argmax(dl_thoi_tiet) + 1  # +1 vì ngày bắt đầu từ 1\n",
    "ngay_thap = np.argmin(dl_thoi_tiet) + 1\n",
    "print(f\"Nhiệt độ cao nhất: {nhiet_do_cao} độ C vào ngày thứ {ngay_cao}\")\n",
    "print(f\"Nhiệt độ thấp nhất: {nhiet_do_thap} độ C vào ngày thứ {ngay_thap}\")"
   ]
  },
  {
   "cell_type": "code",
   "execution_count": 14,
   "metadata": {},
   "outputs": [
    {
     "name": "stdout",
     "output_type": "stream",
     "text": [
      "Chênh lệch nhiệt độ cao nhất là: 18.99\n",
      "Ngày chênh lệch cao nhất: 11\n"
     ]
    }
   ],
   "source": [
    "# 3. Tính sự chênh lệch nhiệt độ giữa các ngày và ngày có biến động lớn nhất\n",
    "ngay_sau = dl_thoi_tiet[1:]  # Từ ngày thứ 2 trở đi\n",
    "ngay_truoc = dl_thoi_tiet[:-1]  # Đến ngày thứ 29\n",
    "chenh_lech = ngay_sau - ngay_truoc  # Chênh lệch nhiệt độ\n",
    "\n",
    "# Xác định ngày có sự chênh lệch nhiệt độ lớn nhất\n",
    "dff_max = np.argmax(np.abs(chenh_lech)) + 1  # +1 vì ngày bắt đầu từ 1\n",
    "max_chenh_lech = chenh_lech[dff_max - 1]  # Giá trị chênh lệch lớn nhất\n",
    "\n",
    "print(\"Chênh lệch nhiệt độ cao nhất là:\", max_chenh_lech)\n",
    "print(\"Ngày chênh lệch cao nhất:\", dff_max)"
   ]
  },
  {
   "cell_type": "code",
   "execution_count": 15,
   "metadata": {},
   "outputs": [
    {
     "name": "stdout",
     "output_type": "stream",
     "text": [
      "Các ngày có nhiệt độ cao hơn 20 độ C: [ 1  2  3  4  8  9 10 12 13 17 18 19 20 21 23 24 25 26 28 29]\n"
     ]
    }
   ],
   "source": [
    "# 3. Áp dụng Fancy Indexing: (10 phút)\n",
    "# a. Tất cả các ngày có nhiệt độ cao hơn 20 độ C\n",
    "cao_20 = np.where(dl_thoi_tiet > 20)[0] + 1  # +1 để chuyển sang chỉ số ngày\n",
    "print(f\"Các ngày có nhiệt độ cao hơn 20 độ C: {cao_20}\")"
   ]
  },
  {
   "cell_type": "code",
   "execution_count": 16,
   "metadata": {},
   "outputs": [
    {
     "name": "stdout",
     "output_type": "stream",
     "text": [
      "Nhiệt độ của các ngày 5, 10, 15, 20, 25: [18.12 29.16 18.64 20.82 24.12]\n"
     ]
    }
   ],
   "source": [
    "# b. Lấy nhiệt độ của ngày 5, 10, 15, 20, 25\n",
    "ngay_xet = [5, 10, 15, 20, 25]\n",
    "dl_ngay_xet = dl_thoi_tiet[np.array(ngay_xet) - 1]  # -1 vì chỉ số Python bắt đầu từ 0\n",
    "print(f\"Nhiệt độ của các ngày 5, 10, 15, 20, 25: {dl_ngay_xet}\")"
   ]
  },
  {
   "cell_type": "code",
   "execution_count": 17,
   "metadata": {},
   "outputs": [
    {
     "name": "stdout",
     "output_type": "stream",
     "text": [
      "Các ngày có nhiệt độ trên trung bình: [ 2  3  4  8  9 10 12 13 18 21 25 26 28 29]\n"
     ]
    }
   ],
   "source": [
    "# c. Tìm nhiệt độ của các ngày có nhiệt độ trên trung bình\n",
    "tren_tb = np.where(dl_thoi_tiet > nhiet_do_tb)[0] + 1\n",
    "print(f\"Các ngày có nhiệt độ trên trung bình: {tren_tb}\")"
   ]
  },
  {
   "cell_type": "code",
   "execution_count": 18,
   "metadata": {},
   "outputs": [
    {
     "name": "stdout",
     "output_type": "stream",
     "text": [
      "Nhiệt độ các ngày chẵn: [34.01 26.97 18.12 32.32 29.16 34.4  19.25 18.67 25.5  20.82 17.79 22.33\n",
      " 30.7  25.28 15.93]\n",
      "Nhiệt độ các ngày lẻ: [22.49 29.64 18.12 16.16 27.02 15.41 31.65 18.64 21.08 23.64 27.24 20.84\n",
      " 24.12 18.99 26.85]\n"
     ]
    }
   ],
   "source": [
    "# d. Lấy nhiệt độ của các ngày chẵn/lẻ trong tháng\n",
    "ngay_chan = dl_thoi_tiet[1::2]  # Ngày chẵn: bắt đầu từ index 1 (ngày 2) và nhảy 2 bước\n",
    "ngay_le = dl_thoi_tiet[0::2]   # Ngày lẻ: bắt đầu từ index 0 (ngày 1) và nhảy 2 bước\n",
    "print(f\"Nhiệt độ các ngày chẵn: {ngay_chan}\")\n",
    "print(f\"Nhiệt độ các ngày lẻ: {ngay_le}\")\n"
   ]
  }
 ],
 "metadata": {
  "kernelspec": {
   "display_name": "base",
   "language": "python",
   "name": "python3"
  },
  "language_info": {
   "codemirror_mode": {
    "name": "ipython",
    "version": 3
   },
   "file_extension": ".py",
   "mimetype": "text/x-python",
   "name": "python",
   "nbconvert_exporter": "python",
   "pygments_lexer": "ipython3",
   "version": "3.12.4"
  }
 },
 "nbformat": 4,
 "nbformat_minor": 2
}
